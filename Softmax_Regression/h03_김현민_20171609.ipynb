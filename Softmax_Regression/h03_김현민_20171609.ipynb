{
  "nbformat": 4,
  "nbformat_minor": 0,
  "metadata": {
    "colab": {
      "name": "h03_김현민_20171609.ipynb",
      "provenance": []
    },
    "kernelspec": {
      "name": "python3",
      "display_name": "Python 3"
    }
  },
  "cells": [
    {
      "cell_type": "code",
      "metadata": {
        "id": "5Rij0HPWUYHD"
      },
      "source": [
        "import torch\n",
        "\n",
        "x_train = torch.FloatTensor([ [ 1,2,1,1], [2,1,3,2], [3,1,3,4], [4,1,5,5], [1,7,5,5],\n",
        "[ 1,2,5,6], [1,6,6,6], [1,7,7,7] ])\n",
        "\n",
        "y_train = torch.FloatTensor([ [ 0,0,1], [0,0,1], [0,0,1], [0,1,0], [0,1,0], [0,1,0],\n",
        "[ 1,0,0], [1,0,0] ])"
      ],
      "execution_count": null,
      "outputs": []
    },
    {
      "cell_type": "code",
      "metadata": {
        "id": "bD6c75vBUhhr"
      },
      "source": [
        "w = torch.zeros(4, 3, requires_grad=True)\n",
        "b = torch.zeros(1, 3, requires_grad=True)\n",
        "optimizer = torch.optim.Adam([w,b], lr=0.1)"
      ],
      "execution_count": null,
      "outputs": []
    },
    {
      "cell_type": "code",
      "metadata": {
        "id": "r2ON5Y1TUmxC",
        "colab": {
          "base_uri": "https://localhost:8080/",
          "height": 204
        },
        "outputId": "2a079204-7840-4168-f4fd-e6c35c4f3546"
      },
      "source": [
        "for epoch in range(3001):\n",
        "  hypothesis = torch.softmax(torch.mm(x_train, w)+b, dim=1)\n",
        "  cost = -torch.mean(torch.sum(y_train * torch.log(hypothesis), dim=1))\n",
        "  # 위에꺼 또는 밑에꺼\n",
        "  hypothesis = (torch.mm(x_train, w)+b).softmax(dim=1)\n",
        "  cost = -(y_train * torch.log(hypothesis)).sum(dim=1).mean()\n",
        "\n",
        "  optimizer.zero_grad()\n",
        "  cost.backward()\n",
        "  optimizer.step()\n",
        "\n",
        "  if epoch % 300 == 0:\n",
        "    print(\"epoch: {}, cost: {:.6f}\".format(epoch, cost.item()))"
      ],
      "execution_count": null,
      "outputs": [
        {
          "output_type": "stream",
          "text": [
            "epoch: 0, cost: 1.098612\n",
            "epoch: 300, cost: 0.105263\n",
            "epoch: 600, cost: 0.042634\n",
            "epoch: 900, cost: 0.023111\n",
            "epoch: 1200, cost: 0.014479\n",
            "epoch: 1500, cost: 0.009879\n",
            "epoch: 1800, cost: 0.007124\n",
            "epoch: 2100, cost: 0.005338\n",
            "epoch: 2400, cost: 0.004113\n",
            "epoch: 2700, cost: 0.003236\n",
            "epoch: 3000, cost: 0.002588\n"
          ],
          "name": "stdout"
        }
      ]
    },
    {
      "cell_type": "code",
      "metadata": {
        "id": "bdVmGBd3UtEU",
        "colab": {
          "base_uri": "https://localhost:8080/",
          "height": 85
        },
        "outputId": "cb3552ff-d3ce-4dd7-8e84-e668f4282fcd"
      },
      "source": [
        "w.requires_grad_(False)\n",
        "b.requires_grad_(False)\n",
        "x_test = torch.FloatTensor([[1,11,10,9], [1,3,4,3], [1,1,0,1]])\n",
        "test_all = torch.softmax(torch.mm(x_test, w)+b, dim=1)\n",
        "print(test_all)\n",
        "print(torch.argmax(test_all, dim=1))"
      ],
      "execution_count": null,
      "outputs": [
        {
          "output_type": "stream",
          "text": [
            "tensor([[1.0000e+00, 5.5164e-19, 7.0150e-38],\n",
            "        [1.4800e-02, 7.4294e-01, 2.4226e-01],\n",
            "        [1.2256e-33, 9.0835e-12, 1.0000e+00]])\n",
            "tensor([0, 1, 2])\n"
          ],
          "name": "stdout"
        }
      ]
    },
    {
      "cell_type": "code",
      "metadata": {
        "id": "FOiglv3PYntS"
      },
      "source": [
        "import torch.nn.functional as F\n",
        "import torch.nn as nn\n",
        "\n",
        "x_train = torch.FloatTensor([ [ 1,2,1,1], [2,1,3,2], [3,1,3,4], [4,1,5,5], [1,7,5,5], [ 1,2,5,6], [1,6,6,6], [1,7,7,7] ])\n",
        "\n",
        "# y_train = torch.FloatTensor([ [ 0,0,1], [0,0,1], [0,0,1], [0,1,0], [0,1,0], [0,1,0],\n",
        "# [ 1,0,0], [1,0,0] ])\n",
        "y_train = torch.LongTensor([ 2,2,2,1,1,1,0,0])"
      ],
      "execution_count": null,
      "outputs": []
    },
    {
      "cell_type": "code",
      "metadata": {
        "id": "Cen4mpPMfsga"
      },
      "source": [
        "# w = torch.zeros(4, 3, requires_grad=True)\n",
        "# b = torch.zeros(1, 3, requires_grad=True)\n",
        "# optimizer = torch.optim.Adam([w,b], lr=0.1)\n",
        "model = nn.Linear(4,3)\n",
        "optimizer = torch.optim.Adam(model.parameters(), lr=1)"
      ],
      "execution_count": null,
      "outputs": []
    },
    {
      "cell_type": "code",
      "metadata": {
        "id": "eWBkL4edjapg",
        "colab": {
          "base_uri": "https://localhost:8080/",
          "height": 204
        },
        "outputId": "e3325543-122a-49ee-d2be-28d29cdc73ec"
      },
      "source": [
        "for epoch in range(3001):\n",
        "  # hypothesis = torch.softmax(torch.mm(x_train, w)+b, dim=1)\n",
        "  # cost = -torch.mean(torch.sum(y_train * torch.log(hypothesis), dim=1))\n",
        "  # hypothesis = (torch.mm(x_train, w)+b).softmax(dim=1)\n",
        "  # cost = -(y_train * torch.log(hypothesis)).sum(dim=1).mean()\n",
        "  z = model(x_train)\n",
        "  cost = F.cross_entropy(z, y_train)\n",
        "\n",
        "  optimizer.zero_grad()\n",
        "  cost.backward()\n",
        "  optimizer.step()\n",
        "\n",
        "  if epoch % 300 == 0:\n",
        "    print(\"epoch: {}, cost: {:.6f}\".format(epoch, cost.item()))"
      ],
      "execution_count": null,
      "outputs": [
        {
          "output_type": "stream",
          "text": [
            "epoch: 0, cost: 1.430745\n",
            "epoch: 300, cost: 0.029770\n",
            "epoch: 600, cost: 0.011692\n",
            "epoch: 900, cost: 0.006387\n",
            "epoch: 1200, cost: 0.004028\n",
            "epoch: 1500, cost: 0.002762\n",
            "epoch: 1800, cost: 0.002000\n",
            "epoch: 2100, cost: 0.001503\n",
            "epoch: 2400, cost: 0.001161\n",
            "epoch: 2700, cost: 0.000915\n",
            "epoch: 3000, cost: 0.000733\n"
          ],
          "name": "stdout"
        }
      ]
    }
  ]
}