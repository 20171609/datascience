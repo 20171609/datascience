{
  "nbformat": 4,
  "nbformat_minor": 0,
  "metadata": {
    "colab": {
      "name": "h02_김현민_20171609.ipynb",
      "provenance": []
    },
    "kernelspec": {
      "name": "python3",
      "display_name": "Python 3"
    }
  },
  "cells": [
    {
      "cell_type": "code",
      "metadata": {
        "id": "2LXx_2_v2nNI"
      },
      "source": [
        "import torch\n",
        "\n",
        "x_train = torch.FloatTensor ([[1],[2],[3],[4],[5],[2.5],[3.5],[0],[3.1],[2.7],[2.8],[2.9]])\n",
        "y_train = torch.FloatTensor([[1],[1],[1],[0],[0],[0],[0],[1],[0],[1],[1],[1]])"
      ],
      "execution_count": null,
      "outputs": []
    },
    {
      "cell_type": "code",
      "metadata": {
        "id": "NTjZOJIq24wF"
      },
      "source": [
        "w = torch.zeros(1,1)\n",
        "b = torch.zeros(1,1)\n",
        "\n",
        "lr = 1.0"
      ],
      "execution_count": null,
      "outputs": []
    },
    {
      "cell_type": "code",
      "metadata": {
        "id": "tqvgIZMF2_qb",
        "colab": {
          "base_uri": "https://localhost:8080/",
          "height": 204
        },
        "outputId": "c0f5b33d-06a5-496e-d6f9-e1b367b11da1"
      },
      "source": [
        "for epoch in range (3001):\n",
        "  w.requires_grad_(True)\n",
        "  b.requires_grad_(True)\n",
        "\n",
        "  hypothesis = torch.sigmoid(torch.mm(x_train, w) + b)\n",
        "  cost = torch.mean(\n",
        "      -y_train * torch.log(hypothesis)\n",
        "     -(1 - y_train) * torch.log(1 - hypothesis)\n",
        "  )\n",
        "\n",
        "  cost.backward()\n",
        "  with torch.no_grad() as grd:\n",
        "    w = w - lr * w.grad\n",
        "    b = b - lr * b.grad\n",
        "\n",
        "  if epoch % 300 == 0:\n",
        "    print( 'epoch : {}, cost: {:.6f}, w: {:.6f}, b: {:.6f}' .format(\n",
        "        epoch, cost.item(), w.squeeze(), b.squeeze()\n",
        "    )) "
      ],
      "execution_count": null,
      "outputs": [
        {
          "output_type": "stream",
          "text": [
            "epoch : 0, cost: 0.693147, w: -0.154167, b: 0.083333\n",
            "epoch : 300, cost: 0.390820, w: -2.174323, b: 6.609555\n",
            "epoch : 600, cost: 0.383699, w: -2.620779, b: 7.953164\n",
            "epoch : 900, cost: 0.382149, w: -2.832521, b: 8.587361\n",
            "epoch : 1200, cost: 0.381706, w: -2.946401, b: 8.927779\n",
            "epoch : 1500, cost: 0.381565, w: -3.010968, b: 9.120598\n",
            "epoch : 1800, cost: 0.381517, w: -3.048561, b: 9.232801\n",
            "epoch : 2100, cost: 0.381500, w: -3.070766, b: 9.299055\n",
            "epoch : 2400, cost: 0.381494, w: -3.083992, b: 9.338511\n",
            "epoch : 2700, cost: 0.381492, w: -3.091908, b: 9.362126\n",
            "epoch : 3000, cost: 0.381491, w: -3.096662, b: 9.376307\n"
          ],
          "name": "stdout"
        }
      ]
    },
    {
      "cell_type": "code",
      "metadata": {
        "id": "xnvym2Zj4-4y",
        "colab": {
          "base_uri": "https://localhost:8080/",
          "height": 51
        },
        "outputId": "bb9aa459-8787-46b7-a89d-2f9f5409c86b"
      },
      "source": [
        "x_test = torch.FloatTensor([[4.5],[1.1]])\n",
        "test_result = torch.sigmoid(torch.mm(x_test, w) + b)\n",
        "print(torch.round(test_result))\n",
        "# 4.5 일때 0 ,  1.1 일때 1 이다!"
      ],
      "execution_count": null,
      "outputs": [
        {
          "output_type": "stream",
          "text": [
            "tensor([[0.],\n",
            "        [1.]])\n"
          ],
          "name": "stdout"
        }
      ]
    },
    {
      "cell_type": "code",
      "metadata": {
        "id": "N0041BAxRPLU"
      },
      "source": [
        "optimizer = torch.optim.SGD([w,b] , lr=1.0)\n",
        "optimizer.zero_grad()\n",
        "optimizer.step()"
      ],
      "execution_count": null,
      "outputs": []
    },
    {
      "cell_type": "code",
      "metadata": {
        "id": "rnZfkSdKRtmS",
        "colab": {
          "base_uri": "https://localhost:8080/",
          "height": 279
        },
        "outputId": "66a0cd4b-ec88-4364-808e-4567b81d18fa"
      },
      "source": [
        "import matplotlib.pyplot as plt\n",
        "w.requires_grad_(False)\n",
        "b.requires_grad_(False)\n",
        "plt.scatter(x_train, y_train)\n",
        "X = torch.linspace(0,5,100).unsqueeze(1)\n",
        "Y = torch.sigmoid(torch.mm(X,w)+b)\n",
        "plt.plot(X,Y)\n",
        "plt.ylabel(\"Probability of 1 (Y)\")\n",
        "plt.xlabel(\"Input (X)\")\n",
        "plt.scatter(x_train, y_train, c=\"black\", label=\"Training data\")\n",
        "plt.plot(X,Y, c=\"#ff0000\", label=\"Fitting line\")\n",
        "plt.legend()\n",
        "plt.show()"
      ],
      "execution_count": null,
      "outputs": [
        {
          "output_type": "display_data",
          "data": {
            "image/png": "[encoded data removed]",
            "text/plain": [
              "<Figure size 432x288 with 1 Axes>"
            ]
          },
          "metadata": {
            "tags": [],
            "needs_background": "light"
          }
        }
      ]
    }
  ]
}