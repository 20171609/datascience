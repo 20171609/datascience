{
  "nbformat": 4,
  "nbformat_minor": 0,
  "metadata": {
    "colab": {
      "name": "p01_김현민_20171609",
      "provenance": [],
      "collapsed_sections": []
    },
    "kernelspec": {
      "name": "python3",
      "display_name": "Python 3"
    }
  },
  "cells": [
    {
      "cell_type": "code",
      "metadata": {
        "id": "FkLWq78w0UiX"
      },
      "source": [
        "# Task 1\n",
        "import pandas as pd\n",
        "import torch\n",
        "import numpy as np\n",
        "from matplotlib import pyplot as plt\n",
        "\n",
        "student = pd.read_csv('p01_input.csv',encoding = 'cp949')\n",
        "\n",
        "status = student[['키','몸무게']].dropna()\n",
        "\n",
        "height = torch.FloatTensor(status['키'])\n",
        "weight = torch.FloatTensor(status['몸무게'])"
      ],
      "execution_count": 1,
      "outputs": []
    },
    {
      "cell_type": "code",
      "metadata": {
        "id": "EI73CLz8KzpV",
        "outputId": "4b8dc95c-6bb6-4c8e-b1a0-37cbb683af18",
        "colab": {
          "base_uri": "https://localhost:8080/"
        }
      },
      "source": [
        "# Task 2\n",
        "mean_height = torch.mean(height)\n",
        "mean_weight = torch.mean(weight)\n",
        "\n",
        "print(mean_height, mean_weight)"
      ],
      "execution_count": 2,
      "outputs": [
        {
          "output_type": "stream",
          "text": [
            "tensor(154.5648) tensor(50.2076)\n"
          ],
          "name": "stdout"
        }
      ]
    },
    {
      "cell_type": "code",
      "metadata": {
        "id": "gvyxFcbHjEeh",
        "outputId": "4fba87b5-9bbf-4d7a-f2d4-8c2b2fd563e8",
        "colab": {
          "base_uri": "https://localhost:8080/"
        }
      },
      "source": [
        "# Task 3\n",
        "def pearson_similarity(height, weight):\n",
        "  height_c = height - mean_height\n",
        "  weight_c = weight - mean_weight\n",
        "  denom = np.sqrt(torch.sum(height_c ** 2) * torch.sum(weight_c ** 2))\n",
        "  if denom != 0:\n",
        "    return torch.sum(height_c * weight_c) / denom\n",
        "  else:\n",
        "    return 0\n",
        "\n",
        "print(pearson_similarity(height, weight))"
      ],
      "execution_count": 3,
      "outputs": [
        {
          "output_type": "stream",
          "text": [
            "tensor(0.8490)\n"
          ],
          "name": "stdout"
        }
      ]
    },
    {
      "cell_type": "code",
      "metadata": {
        "id": "pxFKSLs9jv77",
        "outputId": "b89aa208-011c-4bf5-c532-ef3b58aee5cc",
        "colab": {
          "base_uri": "https://localhost:8080/"
        }
      },
      "source": [
        "# Task 4\n",
        "W = torch.zeros(1,1)\n",
        "b = torch.zeros(1,1)\n",
        "\n",
        "lr = 0.00000105\n",
        "lr2 = 0.1\n",
        "\n",
        "# 가설 함수\n",
        "def hypothesis(height, W, b):\n",
        "  hypo = height * W + b\n",
        "  return hypo\n",
        "\n",
        "# 비용 함수\n",
        "def MSE(hypothesis, weight):\n",
        "  cost = torch.mean((hypothesis - weight) ** 2)\n",
        "  return cost\n",
        "\n",
        "# cost를 W로 미분\n",
        "def W_grad(hypo, weight, height):\n",
        "  diff = -2 * torch.mean((weight - hypo) * height)\n",
        "  return diff\n",
        "\n",
        "# cost를 b로 미분\n",
        "def b_grad(hypo, weight):\n",
        "  diff = -2 * torch.mean(weight - hypo)\n",
        "  return diff\n",
        "\n",
        "for epoch in range(20000):\n",
        "  W.requires_grad_(True)\n",
        "  b.requires_grad_(True)\n",
        "  \n",
        "  hypo = hypothesis(height, W, b)\n",
        "  cost = MSE(hypo, weight)\n",
        "  # hypo = torch.mm(W,height) + b\n",
        "  # cost = torch.mean((hypo - weight) ** 2)\n",
        "\n",
        "  cost.backward()\n",
        "  with torch.no_grad() as grd:\n",
        "    # W = W - lr * W.grad\n",
        "    # b = b - lr * b.grad\n",
        "    W = W - lr * W_grad(hypo, weight, height)\n",
        "    b = b - lr2 * b_grad(hypo, weight)\n",
        "\n",
        "print('cost: {:.6f}, W: {}, b: {}' .format(cost.item(), W.squeeze(), b))"
      ],
      "execution_count": 10,
      "outputs": [
        {
          "output_type": "stream",
          "text": [
            "cost: 81.399826, W: 0.8541733026504517, b: tensor([[-81.8175]])\n"
          ],
          "name": "stdout"
        }
      ]
    },
    {
      "cell_type": "code",
      "metadata": {
        "id": "-_F4lbhYqfKO"
      },
      "source": [
        "hypo = torch.squeeze(hypo)"
      ],
      "execution_count": 11,
      "outputs": []
    },
    {
      "cell_type": "code",
      "metadata": {
        "id": "lMH20ty4l-SJ",
        "outputId": "0bbc714f-23e9-43f9-dc65-71994f071de7",
        "colab": {
          "base_uri": "https://localhost:8080/",
          "height": 265
        }
      },
      "source": [
        "# Task 5\n",
        "plt.plot(height, hypo.detach().numpy())\n",
        "plt.scatter(height, weight, color='black', marker='o', s=3)\n",
        "plt.show()"
      ],
      "execution_count": 12,
      "outputs": [
        {
          "output_type": "display_data",
          "data": {
            "image/png": "[encoded data removed]",
            "text/plain": [
              "<Figure size 432x288 with 1 Axes>"
            ]
          },
          "metadata": {
            "tags": [],
            "needs_background": "light"
          }
        }
      ]
    }
  ]
}