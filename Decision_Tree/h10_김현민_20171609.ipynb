{
  "nbformat": 4,
  "nbformat_minor": 0,
  "metadata": {
    "colab": {
      "name": "h10_김현민_20171609",
      "provenance": [],
      "collapsed_sections": []
    },
    "kernelspec": {
      "name": "python3",
      "display_name": "Python 3"
    }
  },
  "cells": [
    {
      "cell_type": "code",
      "metadata": {
        "id": "D8ShBrQqNbf6"
      },
      "source": [
        "import requests  \n",
        "import random\n",
        "from collections import Counter\n",
        "\n",
        "iris_url = \"https://archive.ics.uci.edu/ml/machine-learning-databases/iris/iris.data\"\n",
        "r = requests.get(iris_url)\n",
        "with open('iris.data', 'wb') as f:\n",
        "  f.write(r.content)"
      ],
      "execution_count": 1,
      "outputs": []
    },
    {
      "cell_type": "code",
      "metadata": {
        "id": "weAK8o1wOfEG"
      },
      "source": [
        "vectors = []\n",
        "answers = []\n",
        "with open('iris.data', 'r') as f:\n",
        "  for line in f:\n",
        "    if len(line.strip()) == 0:\n",
        "      break\n",
        "    items = line.strip().split(\",\")\n",
        "    vectors.append(tuple(float(i) for i in items[:4]))\n",
        "    answers.append(items[4])\n",
        "\n",
        "zipped = list(zip(vectors,answers))\n",
        "random.shuffle(zipped)\n",
        "train_size = int(len(zipped) * 0.8)\n",
        "train_x, train_y = zip(*zipped[:train_size])\n",
        "test_x, test_y = zip(*zipped[train_size:])"
      ],
      "execution_count": 2,
      "outputs": []
    },
    {
      "cell_type": "code",
      "metadata": {
        "colab": {
          "base_uri": "https://localhost:8080/"
        },
        "id": "VQY_5NFEPBUo",
        "outputId": "e79bab89-5293-43de-887e-2b4a4b9089e1"
      },
      "source": [
        "def gini_score(items):\n",
        "  counter = Counter(items)\n",
        "  total_count = sum(counter.values()) # len(items) 제너레이터도 받을 수 있게 \n",
        "  gini = 1\n",
        "  for item, count in counter.items():\n",
        "    gini -= (count/total_count) ** 2\n",
        "\n",
        "  return gini\n",
        "\n",
        "\n",
        "def find_split_point_of_a_field(pairs):\n",
        " \n",
        "  S = sorted(pairs, key=lambda x:x[0])\n",
        "\n",
        "  split_point, min_gini = 0, 99\n",
        "  for i in range(1,len(S)):\n",
        "    if S[i-1][0] != S[i][0]:\n",
        "      prop = i/len(S)\n",
        "      gini = gini_score(s[1] for s in S[:i]) * prop + gini_score(s[1] for s in S[i:]) * (1-prop)\n",
        "      if min_gini > gini:\n",
        "        split_point, min_gini = (S[i-1][0] + S[i][0])/2, gini\n",
        "\n",
        "  return split_point, min_gini\n",
        "\n",
        "def split_data(X, Y):\n",
        "  num_fields = len(X[0])\n",
        "\n",
        "  min_fid, min_sp, min_gini = -1, -1, 99\n",
        "  for fid in range(num_fields):\n",
        "    sp, gini = find_split_point_of_a_field(zip([x[fid] for x in X], Y))\n",
        "    if min_gini > gini:\n",
        "      min_fid, min_sp, min_gini = fid, sp, gini\n",
        "  \n",
        "  node = {}\n",
        "  node['sp'] = min_sp\n",
        "  node['fid'] = min_fid\n",
        "  node['gini'] = min_gini\n",
        "  node['left'] = tuple(zip(*[(x,y) for x,y in zip(X, Y) if x[min_fid] < min_sp]))\n",
        "  node['right'] = tuple(zip(*[(x,y) for x,y in zip(X, Y) if x[min_fid] >= min_sp]))\n",
        "  return node\n",
        "\n",
        "def decision_tree(X, Y, threshold):\n",
        "  original_gini = gini_score(Y)\n",
        "  node = split_data(X, Y)\n",
        "\n",
        "  if original_gini - node['gini'] <= threshold:\n",
        "    # 더이상 나누지 않는다.\n",
        "    counter = Counter(Y)\n",
        "    ans, c = counter.most_common(1)[0]\n",
        "    return (ans, c/sum(counter.values()))\n",
        "\n",
        "  else:\n",
        "    node['left'] = decision_tree(*node['left'], threshold)\n",
        "    node['right'] = decision_tree(*node['right'], threshold)\n",
        "    # 나눈다.\n",
        "    return node\n",
        "\n",
        "def predict(x, tree):\n",
        "  if 'fid' not in tree:\n",
        "    return tree\n",
        "\n",
        "  if x[tree['fid']] < tree['sp']:\n",
        "    return predict(x,tree['left'])\n",
        "  else:\n",
        "    return predict(x,tree['right'])\n",
        "\n",
        "\n",
        "tree = decision_tree(train_x, train_y, 0)\n",
        "\n",
        "train_accuracy = 0\n",
        "\n",
        "for x,y in zip(train_x, train_y):\n",
        "  if predict(x, tree)[0] == y:\n",
        "    train_accuracy += 1\n",
        "\n",
        "train_accuracy /= len(train_x)\n",
        "print(\"train_accuracy : \",train_accuracy)\n",
        "\n",
        "test_accuracy = 0\n",
        "\n",
        "for x,y in zip(test_x, test_y):\n",
        "  if predict(x, tree)[0] == y:\n",
        "    test_accuracy += 1\n",
        "\n",
        "test_accuracy /= len(test_x)\n",
        "print(\"test_accuracy : \",test_accuracy)"
      ],
      "execution_count": 3,
      "outputs": [
        {
          "output_type": "stream",
          "text": [
            "train_accuracy :  1.0\n",
            "test_accuracy :  0.9333333333333333\n"
          ],
          "name": "stdout"
        }
      ]
    }
  ]
}