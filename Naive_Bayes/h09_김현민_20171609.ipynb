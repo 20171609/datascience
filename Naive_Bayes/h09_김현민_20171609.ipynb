{
  "nbformat": 4,
  "nbformat_minor": 0,
  "metadata": {
    "colab": {
      "name": "h09_김현민_20171609",
      "provenance": [],
      "collapsed_sections": []
    },
    "kernelspec": {
      "name": "python3",
      "display_name": "Python 3"
    }
  },
  "cells": [
    {
      "cell_type": "code",
      "metadata": {
        "id": "SPd-VASgKF46"
      },
      "source": [
        "import zipfile\n",
        "import requests\n",
        "from collections import Counter\n",
        "import re\n",
        "import math\n",
        "\n",
        "x = requests.get(\"http://www.dt.fee.unicamp.br/~tiago/smsspamcollection/smsspamcollection.zip\")\n",
        "open(\"spam.zip\", \"wb\").write(x.content)\n",
        "\n",
        "zipfile.ZipFile(\"spam.zip\").extractall(\"./\") # 현재 디렉토리에 집 풀기\n",
        "\n",
        "with open(\"SMSSpamCollection.txt\", \"r\") as f:\n",
        "  data = [line.strip().split(\"\\t\") for line in f]\n",
        "\n",
        "train_size = int(0.8 * len(data))\n",
        "test_size = len(data) - train_size\n",
        "\n",
        "train = data[:train_size]\n",
        "test = data[train_size:]"
      ],
      "execution_count": 1,
      "outputs": []
    },
    {
      "cell_type": "code",
      "metadata": {
        "colab": {
          "base_uri": "https://localhost:8080/"
        },
        "id": "4VrzzpI4Nj9I",
        "outputId": "0418e81e-6056-45a7-bb2a-fe7421f7464a"
      },
      "source": [
        "# 사전확률 계산\n",
        "count = Counter(s for s,c in train)\n",
        "prior_spam = count['spam']/(count['spam'] + count['ham'])\n",
        "prior_ham = count['ham']/(count['spam'] + count['ham'])\n",
        "print(prior_spam, prior_ham)"
      ],
      "execution_count": 2,
      "outputs": [
        {
          "output_type": "stream",
          "text": [
            "0.13500784929356358 0.8649921507064364\n"
          ],
          "name": "stdout"
        }
      ]
    },
    {
      "cell_type": "code",
      "metadata": {
        "colab": {
          "base_uri": "https://localhost:8080/"
        },
        "id": "xqKrIfmDLX7j",
        "outputId": "59bb64bd-ced6-416c-b274-b134e4290afe"
      },
      "source": [
        "# spam_words = [w.group() for s,c in train if s=='spam' for w in re.finditer(\"[0-9a-z_]+\",c.lower())]\n",
        "\n",
        "# for c in [c for s,c in train if s=='spam']:\n",
        "#   c_words = re.findall(\"[0-9a-z_]+\",c.lower())\n",
        "#   spam_words.extend(c_words)\n",
        "\n",
        "spam_words = Counter(w.group() \\\n",
        "                      for s,c in train if s=='spam'\\\n",
        "                      for w in re.finditer(\"[0-9a-z_]+\",c.lower()))\n",
        "\n",
        "ham_words = Counter(w.group() \\\n",
        "                      for s,c in train if s=='ham'\\\n",
        "                      for w in re.finditer(\"[0-9a-z_]+\",c.lower()))\n",
        "\n",
        "num_spam_words = sum(spam_words.values())\n",
        "num_ham_words = sum(ham_words.values())\n",
        "num_unique_words = len(set(w.group() for s,c in train for w in re.finditer(\"[0-9a-z_]+\",c.lower())))\n",
        "\n",
        "def predict(text, k=0.5): # k 는 라플라스 스무딩을 위한 값\n",
        "  words = re.findall(\"[0-9a-z_]+\" , text.lower())\n",
        "\n",
        "  denom_spam = (num_spam_words + num_unique_words * k)\n",
        "  \n",
        "  spam_score = math.log(prior_spam)\n",
        "  for w in words:\n",
        "    spam_score += math.log((spam_words[w] + k) / denom_spam)\n",
        "\n",
        "  denom_ham = (num_ham_words + num_unique_words * k)\n",
        "\n",
        "  ham_score = math.log(prior_ham)\n",
        "  for w in words:\n",
        "    ham_score += math.log((ham_words[w] + k) / denom_ham)\n",
        "\n",
        "  return ham_score < spam_score\n",
        "\n",
        "tp,tn, fp, fn = 0, 0, 0, 0\n",
        "\n",
        "for s, c in test:\n",
        "  pred = predict(c)\n",
        "  if pred and s == 'spam' : tp += 1\n",
        "  elif pred and s != 'spam' : fp += 1\n",
        "  elif not pred and s == 'spam' : fn += 1\n",
        "  else: tn += 1\n",
        "\n",
        "print(\"tp: \", tp)\n",
        "print(\"tn: \", tn)\n",
        "print(\"fp: \", fp)\n",
        "print(\"fn: \", fn)"
      ],
      "execution_count": 3,
      "outputs": [
        {
          "output_type": "stream",
          "text": [
            "tp:  140\n",
            "tn:  956\n",
            "fp:  14\n",
            "fn:  5\n"
          ],
          "name": "stdout"
        }
      ]
    },
    {
      "cell_type": "code",
      "metadata": {
        "colab": {
          "base_uri": "https://localhost:8080/"
        },
        "id": "cs8WYeW0P6C6",
        "outputId": "b40284c9-472b-4b9e-f2a8-0bb1c3311440"
      },
      "source": [
        "accuracy = (tp + tn) / (tp + tn + fp + fn) # 정확도\n",
        "precision = tp / (fp + tp) # 내가 스팸이라고 했을때 진짜 스팸일 확률\n",
        "recall = tp / (tp + fn) #실제 스팸중 내가 맞춘 스팸의 갯수\n",
        "f1 = 2 / (1/precision + 1/recall)   # precision 과 recall의 조화평균\n",
        "\n",
        "print(\"accuracy: \", accuracy)\n",
        "print(\"precision: \", precision)\n",
        "print(\"recall: \", recall)\n",
        "print(\"f1: \", f1)"
      ],
      "execution_count": 4,
      "outputs": [
        {
          "output_type": "stream",
          "text": [
            "accuracy:  0.9829596412556054\n",
            "precision:  0.9090909090909091\n",
            "recall:  0.9655172413793104\n",
            "f1:  0.9364548494983278\n"
          ],
          "name": "stdout"
        }
      ]
    }
  ]
}