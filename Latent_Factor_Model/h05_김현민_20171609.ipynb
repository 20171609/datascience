{
  "nbformat": 4,
  "nbformat_minor": 0,
  "metadata": {
    "colab": {
      "name": "h05_김현민_20171609",
      "provenance": [],
      "collapsed_sections": []
    },
    "kernelspec": {
      "name": "python3",
      "display_name": "Python 3"
    }
  },
  "cells": [
    {
      "cell_type": "code",
      "metadata": {
        "id": "JJIQOOyc-i5V",
        "outputId": "7761c847-10e6-481d-f359-4f5bf6c84ffb",
        "colab": {
          "base_uri": "https://localhost:8080/"
        }
      },
      "source": [
        "!head data/ua.test"
      ],
      "execution_count": 45,
      "outputs": [
        {
          "output_type": "stream",
          "text": [
            "1\t20\t4\t887431883\n",
            "1\t33\t4\t878542699\n",
            "1\t61\t4\t878542420\n",
            "1\t117\t3\t874965739\n",
            "1\t155\t2\t878542201\n",
            "1\t160\t4\t875072547\n",
            "1\t171\t5\t889751711\n",
            "1\t189\t3\t888732928\n",
            "1\t202\t5\t875072442\n",
            "1\t265\t4\t878542441\n"
          ],
          "name": "stdout"
        }
      ]
    },
    {
      "cell_type": "code",
      "metadata": {
        "id": "2PC62L_w_nJz"
      },
      "source": [
        "import torch\n",
        "import pandas as pd\n",
        "import torch.nn.functional as F\n",
        "import matplotlib.pyplot as plt"
      ],
      "execution_count": 46,
      "outputs": []
    },
    {
      "cell_type": "code",
      "metadata": {
        "id": "V4m1_nnqASKi"
      },
      "source": [
        "# 1,20,4,887431883 csv\n",
        "train = pd.read_csv(\"data/ua.base\", sep=\"\\t\", names=['user', 'movie','ratings','timestamp'])\n",
        "test = pd.read_csv(\"data/ua.test\", sep=\"\\t\", names=['user', 'movie','ratings','timestamp'])"
      ],
      "execution_count": 47,
      "outputs": []
    },
    {
      "cell_type": "code",
      "metadata": {
        "id": "eacjzYUvApyj"
      },
      "source": [
        "items = torch.LongTensor(train['movie'])\n",
        "users = torch.LongTensor(train['user'])\n",
        "ratings = torch.FloatTensor(train['ratings'])\n",
        "\n",
        "items_test = torch.LongTensor(test['movie'])\n",
        "users_test = torch.LongTensor(test['user'])\n",
        "ratings_test = torch.FloatTensor(test['ratings'])"
      ],
      "execution_count": 48,
      "outputs": []
    },
    {
      "cell_type": "code",
      "metadata": {
        "id": "UNMlgZq8BU5p",
        "outputId": "8df52a81-188d-456f-a050-7cf2562fb745",
        "colab": {
          "base_uri": "https://localhost:8080/"
        }
      },
      "source": [
        "rank = 100 #크면 학습이 잘될 확률이 높음(무조건X)(시간도 증가)\n",
        "numItems = items.max() + 1\n",
        "numUsers = users.max() + 1\n",
        "P = torch.randn(numItems, rank, requires_grad = True)\n",
        "Q = torch.randn(numUsers, rank, requires_grad=True)\n",
        "\n",
        "# 3 user 123 movie 예상:\n",
        "#torch.sum(P[123] * Q[3])\n",
        "\n",
        "optimizer = torch.optim.Adam([P,Q],lr=0.1)\n",
        "X = []\n",
        "Y = []\n",
        "Y_test = []\n",
        "\n",
        "#lambda가 작을수록 cost가 줄어든다.\n",
        "#하지만 일정이상 작아지면 cost_test는 커진다.\n",
        "lambda1 = 0.0001\n",
        "lambda2 = 0.0001\n",
        "# bias를 위한 람다\n",
        "lambda3 = 0.0001\n",
        "lambda4 = 0.0001\n",
        "bias_item = torch.randn(numItems, requires_grad=True)\n",
        "bias_user = torch.randn(numUsers, requires_grad=True)\n",
        "mean = (ratings.sum()/len(ratings)).item()\n",
        "\n",
        "for epoch in range(1001):\n",
        "  hypothesis = torch.sum(P[items] * Q[users],dim=1) + \\\n",
        "                mean + bias_item[items] + bias_user[users]\n",
        "  cost = F.mse_loss(hypothesis,ratings)\n",
        "  #sum을 mean으로 바꾸면 cost는 줄어드는데 cost_test는 증가함 (over fitting)\n",
        "  loss = cost + lambda1 * torch.sum(P ** 2) + lambda2 * torch.sum(Q**2) + \\\n",
        "          lambda3 * torch.sum(bias_item** 2) + lambda4 * torch.sum(bias_user ** 2)\n",
        "\n",
        "  optimizer.zero_grad()\n",
        "  loss.backward()\n",
        "  optimizer.step()\n",
        "\n",
        "  with torch.no_grad():\n",
        "    hypo_test = torch.sum(P[items_test] * Q[users_test],dim=1) + \\\n",
        "                mean + bias_item[items_test] + bias_user[users_test]\n",
        "    cost_test = F.mse_loss(hypo_test, ratings_test)\n",
        "\n",
        "\n",
        "    X.append(epoch)\n",
        "    Y.append(cost.item())\n",
        "    Y_test.append(cost_test)\n",
        "\n",
        "  if epoch % 100 == 0:\n",
        "    print(f\"epoch: {epoch}, cost:{cost.item():6f}\")\n",
        "\n",
        "# torch.sum(P[1] * Q[1]) # 1번유저가 1번영화에 줄 점수 예측"
      ],
      "execution_count": 80,
      "outputs": [
        {
          "output_type": "stream",
          "text": [
            "epoch: 0, cost:102.633652\n",
            "epoch: 100, cost:0.323745\n",
            "epoch: 200, cost:0.296167\n",
            "epoch: 300, cost:0.289239\n",
            "epoch: 400, cost:0.286876\n",
            "epoch: 500, cost:0.286019\n",
            "epoch: 600, cost:0.285652\n",
            "epoch: 700, cost:0.285457\n",
            "epoch: 800, cost:0.285340\n",
            "epoch: 900, cost:0.285266\n",
            "epoch: 1000, cost:0.285218\n"
          ],
          "name": "stdout"
        }
      ]
    },
    {
      "cell_type": "code",
      "metadata": {
        "id": "K8GC-CfWChTm",
        "outputId": "0c4c8c5f-553f-4380-b050-1ebbc3ef1e12",
        "colab": {
          "base_uri": "https://localhost:8080/",
          "height": 279
        }
      },
      "source": [
        "plt.ylabel(\"MSE\")\n",
        "plt.xlabel(\"EPOCH\")\n",
        "plt.plot(X,Y, label=\"Traning MSE\")\n",
        "plt.plot(X,Y_test, label = \"Test MSE\")\n",
        "plt.legend()\n",
        "plt.show()"
      ],
      "execution_count": 81,
      "outputs": [
        {
          "output_type": "display_data",
          "data": {
            "image/png": "[encoded data removed]",
            "text/plain": [
              "<Figure size 432x288 with 1 Axes>"
            ]
          },
          "metadata": {
            "tags": [],
            "needs_background": "light"
          }
        }
      ]
    },
    {
      "cell_type": "code",
      "metadata": {
        "id": "NlVRa9_JvVb7"
      },
      "source": [
        ""
      ],
      "execution_count": null,
      "outputs": []
    }
  ]
}